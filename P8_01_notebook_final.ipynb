{
 "cells": [
  {
   "cell_type": "markdown",
   "id": "75618f98",
   "metadata": {},
   "source": [
    "## Imports et création de notre session Spark"
   ]
  },
  {
   "cell_type": "code",
   "execution_count": 1,
   "id": "73b00f34",
   "metadata": {},
   "outputs": [
    {
     "data": {
      "application/vnd.jupyter.widget-view+json": {
       "model_id": "a78c16dbfc864bf0838a7e2f86258efa",
       "version_major": 2,
       "version_minor": 0
      },
      "text/plain": [
       "VBox()"
      ]
     },
     "metadata": {},
     "output_type": "display_data"
    },
    {
     "name": "stdout",
     "output_type": "stream",
     "text": [
      "Starting Spark application\n"
     ]
    },
    {
     "data": {
      "text/html": [
       "<table>\n",
       "<tr><th>ID</th><th>YARN Application ID</th><th>Kind</th><th>State</th><th>Spark UI</th><th>Driver log</th><th>Current session?</th></tr><tr><td>1</td><td>application_1660313079227_0003</td><td>pyspark</td><td>idle</td><td><a target=\"_blank\" href=\"http://ip-172-31-23-36.eu-west-3.compute.internal:20888/proxy/application_1660313079227_0003/\" >Link</a></td><td><a target=\"_blank\" href=\"http://ip-172-31-16-87.eu-west-3.compute.internal:8042/node/containerlogs/container_1660313079227_0003_01_000001/livy\" >Link</a></td><td>✔</td></tr></table>"
      ],
      "text/plain": [
       "<IPython.core.display.HTML object>"
      ]
     },
     "metadata": {},
     "output_type": "display_data"
    },
    {
     "data": {
      "application/vnd.jupyter.widget-view+json": {
       "model_id": "",
       "version_major": 2,
       "version_minor": 0
      },
      "text/plain": [
       "FloatProgress(value=0.0, bar_style='info', description='Progress:', layout=Layout(height='25px', width='50%'),…"
      ]
     },
     "metadata": {},
     "output_type": "display_data"
    },
    {
     "name": "stdout",
     "output_type": "stream",
     "text": [
      "SparkSession available as 'spark'.\n"
     ]
    },
    {
     "data": {
      "application/vnd.jupyter.widget-view+json": {
       "model_id": "",
       "version_major": 2,
       "version_minor": 0
      },
      "text/plain": [
       "FloatProgress(value=0.0, bar_style='info', description='Progress:', layout=Layout(height='25px', width='50%'),…"
      ]
     },
     "metadata": {},
     "output_type": "display_data"
    }
   ],
   "source": [
    "# Nos imports\n",
    "import pyspark\n",
    "from pyspark.sql import SparkSession\n",
    "from pyspark.ml.feature import StringIndexer\n",
    "from pyspark.ml.feature import StandardScaler\n",
    "from pyspark.ml.feature import PCA\n",
    "from pyspark.ml.linalg import Vectors\n",
    "from pyspark.ml.linalg import VectorUDT\n",
    "from pyspark.sql import Row\n",
    "from pyspark.sql.functions import split\n",
    "from pyspark.sql.functions import col\n",
    "from pyspark.sql.functions import udf\n",
    "from pyspark.sql.functions import pandas_udf\n",
    "from pyspark.sql.functions import PandasUDFType\n",
    "from pyspark.sql.types import IntegerType, StringType, ArrayType\n",
    "\n",
    "import boto3\n",
    "\n",
    "import pandas as pd\n",
    "import numpy as np\n",
    "from PIL import Image\n",
    "\n",
    "import tensorflow as tf\n",
    "from tensorflow.keras.applications.inception_v3 import InceptionV3\n",
    "from tensorflow.keras.applications.inception_v3 import preprocess_input"
   ]
  },
  {
   "cell_type": "code",
   "execution_count": 2,
   "id": "b224331e",
   "metadata": {},
   "outputs": [
    {
     "data": {
      "application/vnd.jupyter.widget-view+json": {
       "model_id": "0b4bf41f114a4aa39785f4b78dba4cbe",
       "version_major": 2,
       "version_minor": 0
      },
      "text/plain": [
       "VBox()"
      ]
     },
     "metadata": {},
     "output_type": "display_data"
    },
    {
     "data": {
      "application/vnd.jupyter.widget-view+json": {
       "model_id": "",
       "version_major": 2,
       "version_minor": 0
      },
      "text/plain": [
       "FloatProgress(value=0.0, bar_style='info', description='Progress:', layout=Layout(height='25px', width='50%'),…"
      ]
     },
     "metadata": {},
     "output_type": "display_data"
    }
   ],
   "source": [
    "# On crée notre environnement Spark\n",
    "spark = SparkSession.builder.appName('P8_OCR_VLE').getOrCreate()"
   ]
  },
  {
   "cell_type": "markdown",
   "id": "f104cb85",
   "metadata": {},
   "source": [
    "## Fonctions"
   ]
  },
  {
   "cell_type": "code",
   "execution_count": 3,
   "id": "6b23dd63",
   "metadata": {},
   "outputs": [
    {
     "data": {
      "application/vnd.jupyter.widget-view+json": {
       "model_id": "558d811cb4a04f4d9806843f37f90b08",
       "version_major": 2,
       "version_minor": 0
      },
      "text/plain": [
       "VBox()"
      ]
     },
     "metadata": {},
     "output_type": "display_data"
    },
    {
     "data": {
      "application/vnd.jupyter.widget-view+json": {
       "model_id": "",
       "version_major": 2,
       "version_minor": 0
      },
      "text/plain": [
       "FloatProgress(value=0.0, bar_style='info', description='Progress:', layout=Layout(height='25px', width='50%'),…"
      ]
     },
     "metadata": {},
     "output_type": "display_data"
    }
   ],
   "source": [
    "def load_img(img_path):\n",
    "    \"\"\"\n",
    "    Prend le chemin dans un bucket S3 d'un objet (une image), le lit et\n",
    "    le transforme sous la forme d'une liste.\n",
    "\n",
    "            Parameters:\n",
    "                img_path : le chemin de l'image dans notre bucket S3\n",
    "    \"\"\"\n",
    "    \n",
    "    # On récupère nos images en se connectant à notre bucket S3\n",
    "    s3 = boto3.resource('s3', region_name='eu-west-3')\n",
    "    bucket = s3.Bucket('p8ocrvle')\n",
    "    \n",
    "    # On récupère les objets dans notre bucket\n",
    "    img = img_path.replace('s3://p8ocrvle/', '')\n",
    "    bucket_file = bucket.Object(img)\n",
    "    s3_response = bucket_file.get()\n",
    "    file_stream = s3_response['Body']\n",
    "    image = Image.open(file_stream)\n",
    "    \n",
    "    # On enlève les images qui ne retournent rien\n",
    "    if image is None:\n",
    "        image = 0\n",
    "        \n",
    "    else:\n",
    "        image = np.asarray(image)\n",
    "        image = np.resize(image, (299, 299, 3))\n",
    "        image = image.flatten().tolist()\n",
    "    \n",
    "    return image"
   ]
  },
  {
   "cell_type": "code",
   "execution_count": 4,
   "id": "e3754a0c",
   "metadata": {},
   "outputs": [
    {
     "data": {
      "application/vnd.jupyter.widget-view+json": {
       "model_id": "991f8425aa0d4572a8af58959c8449dd",
       "version_major": 2,
       "version_minor": 0
      },
      "text/plain": [
       "VBox()"
      ]
     },
     "metadata": {},
     "output_type": "display_data"
    },
    {
     "data": {
      "application/vnd.jupyter.widget-view+json": {
       "model_id": "",
       "version_major": 2,
       "version_minor": 0
      },
      "text/plain": [
       "FloatProgress(value=0.0, bar_style='info', description='Progress:', layout=Layout(height='25px', width='50%'),…"
      ]
     },
     "metadata": {},
     "output_type": "display_data"
    }
   ],
   "source": [
    "def model_pretrained():\n",
    "    \"\"\"\n",
    "    Retourne notre modèle (InceptionV3), sans la couche la plus haute\n",
    "    (couche de classification) et on y ajoute manuellement les poids pré-entraînés.\n",
    "    \"\"\"\n",
    "    \n",
    "    model = InceptionV3(weights=None, include_top=False)\n",
    "    model.set_weights(model_weights.value)\n",
    "    return model"
   ]
  },
  {
   "cell_type": "code",
   "execution_count": 5,
   "id": "0e86c02c",
   "metadata": {},
   "outputs": [
    {
     "data": {
      "application/vnd.jupyter.widget-view+json": {
       "model_id": "84f8e0c98af14ad69c6975f131eddaf8",
       "version_major": 2,
       "version_minor": 0
      },
      "text/plain": [
       "VBox()"
      ]
     },
     "metadata": {},
     "output_type": "display_data"
    },
    {
     "data": {
      "application/vnd.jupyter.widget-view+json": {
       "model_id": "",
       "version_major": 2,
       "version_minor": 0
      },
      "text/plain": [
       "FloatProgress(value=0.0, bar_style='info', description='Progress:', layout=Layout(height='25px', width='50%'),…"
      ]
     },
     "metadata": {},
     "output_type": "display_data"
    }
   ],
   "source": [
    "def preprocess_img(data):\n",
    "    \"\"\"\n",
    "    Prend une liste représentative de nos images, les transforme\n",
    "    en array et change le format de l'image. Retourne les images\n",
    "    auxquelles on applique le preprocessing propre à notre modèle.\n",
    "    \"\"\"\n",
    "    \n",
    "    image = np.asarray(data)\n",
    "    image = np.resize(image, (299, 299, 3))\n",
    "\n",
    "    return preprocess_input(image)"
   ]
  },
  {
   "cell_type": "code",
   "execution_count": 6,
   "id": "90bdfafa",
   "metadata": {},
   "outputs": [
    {
     "data": {
      "application/vnd.jupyter.widget-view+json": {
       "model_id": "1489e5ec9982467aab30c35bedb996e3",
       "version_major": 2,
       "version_minor": 0
      },
      "text/plain": [
       "VBox()"
      ]
     },
     "metadata": {},
     "output_type": "display_data"
    },
    {
     "data": {
      "application/vnd.jupyter.widget-view+json": {
       "model_id": "",
       "version_major": 2,
       "version_minor": 0
      },
      "text/plain": [
       "FloatProgress(value=0.0, bar_style='info', description='Progress:', layout=Layout(height='25px', width='50%'),…"
      ]
     },
     "metadata": {},
     "output_type": "display_data"
    }
   ],
   "source": [
    "def featurize_series(model, content_series):\n",
    "    \"\"\"\n",
    "    Récupère toutes nos images pour y appliquer notre preprocessing\n",
    "    et on applique notre modèle, avant de faire une classification.\n",
    "    Retourne une série composée de nos features.\n",
    "    \n",
    "            Parameters:\n",
    "                model : notre modèle (InceptionV3 ici)\n",
    "                content_series : nos données images\n",
    "    \"\"\"\n",
    "    \n",
    "    model_input = np.stack(content_series.map(preprocess_img)) \n",
    "    preds = model.predict(model_input)\n",
    "    model_output = [x.flatten() for x in preds]\n",
    "    return pd.Series(model_output)"
   ]
  },
  {
   "cell_type": "code",
   "execution_count": 7,
   "id": "bb503c23",
   "metadata": {},
   "outputs": [
    {
     "data": {
      "application/vnd.jupyter.widget-view+json": {
       "model_id": "c3ac99d432a545af9841b6dc61233b53",
       "version_major": 2,
       "version_minor": 0
      },
      "text/plain": [
       "VBox()"
      ]
     },
     "metadata": {},
     "output_type": "display_data"
    },
    {
     "data": {
      "application/vnd.jupyter.widget-view+json": {
       "model_id": "",
       "version_major": 2,
       "version_minor": 0
      },
      "text/plain": [
       "FloatProgress(value=0.0, bar_style='info', description='Progress:', layout=Layout(height='25px', width='50%'),…"
      ]
     },
     "metadata": {},
     "output_type": "display_data"
    },
    {
     "name": "stdout",
     "output_type": "stream",
     "text": [
      "/usr/lib/spark/python/lib/pyspark.zip/pyspark/sql/pandas/functions.py:386: UserWarning: In Python 3.6+ and Spark 3.0+, it is preferred to specify type hints for pandas UDF instead of specifying pandas UDF type which will be deprecated in the future releases. See SPARK-28264 for more details."
     ]
    }
   ],
   "source": [
    "@pandas_udf('array<float>', PandasUDFType.SCALAR_ITER)\n",
    "def udf_featurize_series(content_series_iter):\n",
    "    \"\"\"\n",
    "    UDF (User Defined Function) wrapper pour notre fonction de featurisation.\n",
    "    Retourne une colonne de DataFrame Spark de type ArrayType(FloatType)\n",
    "    \n",
    "            Parameters:\n",
    "            content_series_iter : série de nos données images\n",
    "    \"\"\"\n",
    "    model = model_pretrained()\n",
    "    for content_series in content_series_iter:\n",
    "        yield featurize_series(model, content_series)"
   ]
  },
  {
   "cell_type": "markdown",
   "id": "9227746d",
   "metadata": {},
   "source": [
    "## Préparation des données"
   ]
  },
  {
   "cell_type": "code",
   "execution_count": 8,
   "id": "aaaf0f41",
   "metadata": {},
   "outputs": [
    {
     "data": {
      "application/vnd.jupyter.widget-view+json": {
       "model_id": "d26ee77525854aa1923744930ed9ab02",
       "version_major": 2,
       "version_minor": 0
      },
      "text/plain": [
       "VBox()"
      ]
     },
     "metadata": {},
     "output_type": "display_data"
    },
    {
     "data": {
      "application/vnd.jupyter.widget-view+json": {
       "model_id": "",
       "version_major": 2,
       "version_minor": 0
      },
      "text/plain": [
       "FloatProgress(value=0.0, bar_style='info', description='Progress:', layout=Layout(height='25px', width='50%'),…"
      ]
     },
     "metadata": {},
     "output_type": "display_data"
    }
   ],
   "source": [
    "# On se connecte à notre bucket S3\n",
    "session = boto3.session.Session(aws_access_key_id='XXX',\n",
    "                                aws_secret_access_key='XXX')\n",
    "\n",
    "s3_client = session.client(service_name='s3', region_name='eu-west-3')\n",
    "\n",
    "# Et on se prépare à lire nos fichiers\n",
    "prefix = 'Data'\n",
    "sub_folders = s3_client.list_objects_v2(Bucket='p8ocrvle', Prefix=prefix)"
   ]
  },
  {
   "cell_type": "code",
   "execution_count": 9,
   "id": "879a005b",
   "metadata": {},
   "outputs": [
    {
     "data": {
      "application/vnd.jupyter.widget-view+json": {
       "model_id": "90e752015d064a228bf944a8da528da2",
       "version_major": 2,
       "version_minor": 0
      },
      "text/plain": [
       "VBox()"
      ]
     },
     "metadata": {},
     "output_type": "display_data"
    },
    {
     "data": {
      "application/vnd.jupyter.widget-view+json": {
       "model_id": "",
       "version_major": 2,
       "version_minor": 0
      },
      "text/plain": [
       "FloatProgress(value=0.0, bar_style='info', description='Progress:', layout=Layout(height='25px', width='50%'),…"
      ]
     },
     "metadata": {},
     "output_type": "display_data"
    }
   ],
   "source": [
    "# On lit les fichiers présent dans notre dossiers \"Data\"\n",
    "# On récupère l'emplacement des fichiers\n",
    "lst_path = []\n",
    "for key in sub_folders['Contents']:\n",
    "    file = key['Key']\n",
    "    file = file.replace(prefix + '/', '')\n",
    "    lst_path.append('s3://p8ocrvle/Data/' + file)"
   ]
  },
  {
   "cell_type": "code",
   "execution_count": 10,
   "id": "b1e252af",
   "metadata": {},
   "outputs": [
    {
     "data": {
      "application/vnd.jupyter.widget-view+json": {
       "model_id": "cf0c2a3294af4e8c951d5905a10ec3c2",
       "version_major": 2,
       "version_minor": 0
      },
      "text/plain": [
       "VBox()"
      ]
     },
     "metadata": {},
     "output_type": "display_data"
    },
    {
     "data": {
      "application/vnd.jupyter.widget-view+json": {
       "model_id": "",
       "version_major": 2,
       "version_minor": 0
      },
      "text/plain": [
       "FloatProgress(value=0.0, bar_style='info', description='Progress:', layout=Layout(height='25px', width='50%'),…"
      ]
     },
     "metadata": {},
     "output_type": "display_data"
    }
   ],
   "source": [
    "# On crée notre DataFrame et on y met l'emplacement de fichiers\n",
    "rdd = spark.sparkContext.parallelize(lst_path)\n",
    "row_rdd = rdd.map(lambda x: Row(x))\n",
    "df_pyspark = spark.createDataFrame(row_rdd, ['path'])"
   ]
  },
  {
   "cell_type": "code",
   "execution_count": 11,
   "id": "d2b54c1e",
   "metadata": {},
   "outputs": [
    {
     "data": {
      "application/vnd.jupyter.widget-view+json": {
       "model_id": "4a87ac6512c748f08be4772216fc3848",
       "version_major": 2,
       "version_minor": 0
      },
      "text/plain": [
       "VBox()"
      ]
     },
     "metadata": {},
     "output_type": "display_data"
    },
    {
     "data": {
      "application/vnd.jupyter.widget-view+json": {
       "model_id": "",
       "version_major": 2,
       "version_minor": 0
      },
      "text/plain": [
       "FloatProgress(value=0.0, bar_style='info', description='Progress:', layout=Layout(height='25px', width='50%'),…"
      ]
     },
     "metadata": {},
     "output_type": "display_data"
    },
    {
     "name": "stdout",
     "output_type": "stream",
     "text": [
      "+-----------------------------------------------+\n",
      "|path                                           |\n",
      "+-----------------------------------------------+\n",
      "|s3://p8ocrvle/Data/apple_6/r0_4.jpg            |\n",
      "|s3://p8ocrvle/Data/apple_6/r0_6.jpg            |\n",
      "|s3://p8ocrvle/Data/apple_pink_lady_1/r0_32.jpg |\n",
      "|s3://p8ocrvle/Data/apple_pink_lady_1/r0_34.jpg |\n",
      "|s3://p8ocrvle/Data/apple_red_yellow_1/r0_32.jpg|\n",
      "+-----------------------------------------------+\n",
      "only showing top 5 rows"
     ]
    }
   ],
   "source": [
    "# On vérifie\n",
    "df_pyspark.show(5, truncate=False)"
   ]
  },
  {
   "cell_type": "code",
   "execution_count": 12,
   "id": "f5959f13",
   "metadata": {},
   "outputs": [
    {
     "data": {
      "application/vnd.jupyter.widget-view+json": {
       "model_id": "75d649b640f04183a7a4fe5563dbd53b",
       "version_major": 2,
       "version_minor": 0
      },
      "text/plain": [
       "VBox()"
      ]
     },
     "metadata": {},
     "output_type": "display_data"
    },
    {
     "data": {
      "application/vnd.jupyter.widget-view+json": {
       "model_id": "",
       "version_major": 2,
       "version_minor": 0
      },
      "text/plain": [
       "FloatProgress(value=0.0, bar_style='info', description='Progress:', layout=Layout(height='25px', width='50%'),…"
      ]
     },
     "metadata": {},
     "output_type": "display_data"
    }
   ],
   "source": [
    "# On récupère nos labels\n",
    "df_pyspark = df_pyspark.withColumn('label', split(col('path'), '/').getItem(4))\n",
    "\n",
    "# On ajoute une colonne avec nos données images\n",
    "udf_image = udf(load_img, ArrayType(IntegerType()))\n",
    "df_pyspark = df_pyspark.withColumn('data', udf_image('path'))"
   ]
  },
  {
   "cell_type": "code",
   "execution_count": 13,
   "id": "25040b50",
   "metadata": {},
   "outputs": [
    {
     "data": {
      "application/vnd.jupyter.widget-view+json": {
       "model_id": "efa16d6b41184c8caf1e739d09c9616a",
       "version_major": 2,
       "version_minor": 0
      },
      "text/plain": [
       "VBox()"
      ]
     },
     "metadata": {},
     "output_type": "display_data"
    },
    {
     "data": {
      "application/vnd.jupyter.widget-view+json": {
       "model_id": "",
       "version_major": 2,
       "version_minor": 0
      },
      "text/plain": [
       "FloatProgress(value=0.0, bar_style='info', description='Progress:', layout=Layout(height='25px', width='50%'),…"
      ]
     },
     "metadata": {},
     "output_type": "display_data"
    },
    {
     "name": "stdout",
     "output_type": "stream",
     "text": [
      "+--------------------+------------------+--------------------+\n",
      "|                path|             label|                data|\n",
      "+--------------------+------------------+--------------------+\n",
      "|s3://p8ocrvle/Dat...|           apple_6|[255, 255, 255, 2...|\n",
      "|s3://p8ocrvle/Dat...|           apple_6|[255, 255, 255, 2...|\n",
      "|s3://p8ocrvle/Dat...| apple_pink_lady_1|[255, 255, 255, 2...|\n",
      "|s3://p8ocrvle/Dat...| apple_pink_lady_1|[255, 255, 255, 2...|\n",
      "|s3://p8ocrvle/Dat...|apple_red_yellow_1|[255, 255, 255, 2...|\n",
      "+--------------------+------------------+--------------------+\n",
      "only showing top 5 rows"
     ]
    }
   ],
   "source": [
    "# On vérifie de nouveau\n",
    "df_pyspark.show(5)"
   ]
  },
  {
   "cell_type": "code",
   "execution_count": 14,
   "id": "7f6b8cef",
   "metadata": {},
   "outputs": [
    {
     "data": {
      "application/vnd.jupyter.widget-view+json": {
       "model_id": "a9bf0231438f4573adc18cfd1f64964f",
       "version_major": 2,
       "version_minor": 0
      },
      "text/plain": [
       "VBox()"
      ]
     },
     "metadata": {},
     "output_type": "display_data"
    },
    {
     "data": {
      "application/vnd.jupyter.widget-view+json": {
       "model_id": "",
       "version_major": 2,
       "version_minor": 0
      },
      "text/plain": [
       "FloatProgress(value=0.0, bar_style='info', description='Progress:', layout=Layout(height='25px', width='50%'),…"
      ]
     },
     "metadata": {},
     "output_type": "display_data"
    },
    {
     "name": "stdout",
     "output_type": "stream",
     "text": [
      "+--------------------+------------------+-------------+--------------------+\n",
      "|                path|             label|label_encoded|                data|\n",
      "+--------------------+------------------+-------------+--------------------+\n",
      "|s3://p8ocrvle/Dat...|           apple_6|            0|[255, 255, 255, 2...|\n",
      "|s3://p8ocrvle/Dat...|           apple_6|            0|[255, 255, 255, 2...|\n",
      "|s3://p8ocrvle/Dat...| apple_pink_lady_1|            1|[255, 255, 255, 2...|\n",
      "|s3://p8ocrvle/Dat...| apple_pink_lady_1|            1|[255, 255, 255, 2...|\n",
      "|s3://p8ocrvle/Dat...|apple_red_yellow_1|            2|[255, 255, 255, 2...|\n",
      "+--------------------+------------------+-------------+--------------------+\n",
      "only showing top 5 rows"
     ]
    }
   ],
   "source": [
    "# On va utiliser un StringIndexer pour encoder nos labels\n",
    "stringIndexer = StringIndexer(inputCol='label', outputCol='label_encoded')\n",
    "sI = stringIndexer.fit(df_pyspark)\n",
    "\n",
    "# On encode et on convertit nos labels en Integer (lisibilité)\n",
    "image_df = sI.transform(df_pyspark)\n",
    "image_df = image_df.withColumn('label_encoded', col('label_encoded').cast(IntegerType()))\n",
    "\n",
    "# On réorganise nos colonnes (lisibilité)\n",
    "image_df = image_df.select('path', 'label', 'label_encoded', 'data')\n",
    "image_df.show(5)"
   ]
  },
  {
   "cell_type": "markdown",
   "id": "4c4551bd",
   "metadata": {},
   "source": [
    "## Preprocessing de nos données"
   ]
  },
  {
   "cell_type": "code",
   "execution_count": 15,
   "id": "d17f4d75",
   "metadata": {},
   "outputs": [
    {
     "data": {
      "application/vnd.jupyter.widget-view+json": {
       "model_id": "3abdbac4efe04391ac6ab4276517301e",
       "version_major": 2,
       "version_minor": 0
      },
      "text/plain": [
       "VBox()"
      ]
     },
     "metadata": {},
     "output_type": "display_data"
    },
    {
     "data": {
      "application/vnd.jupyter.widget-view+json": {
       "model_id": "",
       "version_major": 2,
       "version_minor": 0
      },
      "text/plain": [
       "FloatProgress(value=0.0, bar_style='info', description='Progress:', layout=Layout(height='25px', width='50%'),…"
      ]
     },
     "metadata": {},
     "output_type": "display_data"
    }
   ],
   "source": [
    "# On charge notre model et les poids associés\n",
    "model = InceptionV3(include_top=False)\n",
    "model_weights = spark.sparkContext.broadcast(model.get_weights()) "
   ]
  },
  {
   "cell_type": "code",
   "execution_count": 16,
   "id": "2176b053",
   "metadata": {},
   "outputs": [
    {
     "data": {
      "application/vnd.jupyter.widget-view+json": {
       "model_id": "a4d110efbb4b419c81835c601eba7a09",
       "version_major": 2,
       "version_minor": 0
      },
      "text/plain": [
       "VBox()"
      ]
     },
     "metadata": {},
     "output_type": "display_data"
    },
    {
     "data": {
      "application/vnd.jupyter.widget-view+json": {
       "model_id": "",
       "version_major": 2,
       "version_minor": 0
      },
      "text/plain": [
       "FloatProgress(value=0.0, bar_style='info', description='Progress:', layout=Layout(height='25px', width='50%'),…"
      ]
     },
     "metadata": {},
     "output_type": "display_data"
    }
   ],
   "source": [
    "# On applique notre preprocessing\n",
    "features_df = image_df.select(col('path'), col('label'), col('label_encoded'),\n",
    "                              udf_featurize_series('data').alias('features'))"
   ]
  },
  {
   "cell_type": "code",
   "execution_count": 17,
   "id": "bc3f160f",
   "metadata": {},
   "outputs": [
    {
     "data": {
      "application/vnd.jupyter.widget-view+json": {
       "model_id": "f6e9a38a0e2946d2bf3475fc7675304c",
       "version_major": 2,
       "version_minor": 0
      },
      "text/plain": [
       "VBox()"
      ]
     },
     "metadata": {},
     "output_type": "display_data"
    },
    {
     "data": {
      "application/vnd.jupyter.widget-view+json": {
       "model_id": "",
       "version_major": 2,
       "version_minor": 0
      },
      "text/plain": [
       "FloatProgress(value=0.0, bar_style='info', description='Progress:', layout=Layout(height='25px', width='50%'),…"
      ]
     },
     "metadata": {},
     "output_type": "display_data"
    },
    {
     "name": "stdout",
     "output_type": "stream",
     "text": [
      "+--------------------+------------------+-------------+--------------------+\n",
      "|                path|             label|label_encoded|            features|\n",
      "+--------------------+------------------+-------------+--------------------+\n",
      "|s3://p8ocrvle/Dat...|           apple_6|            0|[0.0, 0.0, 0.0, 0...|\n",
      "|s3://p8ocrvle/Dat...|           apple_6|            0|[0.0, 0.06371247,...|\n",
      "|s3://p8ocrvle/Dat...| apple_pink_lady_1|            1|[0.0, 0.0, 0.0, 0...|\n",
      "|s3://p8ocrvle/Dat...| apple_pink_lady_1|            1|[0.0, 0.0, 0.0, 0...|\n",
      "|s3://p8ocrvle/Dat...|apple_red_yellow_1|            2|[0.059556235, 0.0...|\n",
      "+--------------------+------------------+-------------+--------------------+\n",
      "only showing top 5 rows"
     ]
    }
   ],
   "source": [
    "# On vérifie\n",
    "features_df.show(5)"
   ]
  },
  {
   "cell_type": "markdown",
   "id": "9019849b",
   "metadata": {},
   "source": [
    "## Réduction de dimensions"
   ]
  },
  {
   "cell_type": "markdown",
   "id": "eb02a9c5",
   "metadata": {},
   "source": [
    "Avant d'appliquer une PCA, nous devons centrer et réduire nos données, nous allons donc appliquer le StandardScaler de PySpark."
   ]
  },
  {
   "cell_type": "code",
   "execution_count": 18,
   "id": "eaecb44a",
   "metadata": {},
   "outputs": [
    {
     "data": {
      "application/vnd.jupyter.widget-view+json": {
       "model_id": "26a79987da0d49969dd7aba6ca29266e",
       "version_major": 2,
       "version_minor": 0
      },
      "text/plain": [
       "VBox()"
      ]
     },
     "metadata": {},
     "output_type": "display_data"
    },
    {
     "data": {
      "application/vnd.jupyter.widget-view+json": {
       "model_id": "",
       "version_major": 2,
       "version_minor": 0
      },
      "text/plain": [
       "FloatProgress(value=0.0, bar_style='info', description='Progress:', layout=Layout(height='25px', width='50%'),…"
      ]
     },
     "metadata": {},
     "output_type": "display_data"
    }
   ],
   "source": [
    "# On transforme nos données en vecteurs\n",
    "list_to_vector_udf = udf(lambda l: Vectors.dense(l), VectorUDT())\n",
    "features_df = features_df.select(col('path'),  col('label'),\n",
    "                                 list_to_vector_udf(features_df['features']).alias('features_vect'))"
   ]
  },
  {
   "cell_type": "code",
   "execution_count": 19,
   "id": "a966ad1d",
   "metadata": {},
   "outputs": [
    {
     "data": {
      "application/vnd.jupyter.widget-view+json": {
       "model_id": "1d4905a555fd405b8f743d408c64cc48",
       "version_major": 2,
       "version_minor": 0
      },
      "text/plain": [
       "VBox()"
      ]
     },
     "metadata": {},
     "output_type": "display_data"
    },
    {
     "data": {
      "application/vnd.jupyter.widget-view+json": {
       "model_id": "",
       "version_major": 2,
       "version_minor": 0
      },
      "text/plain": [
       "FloatProgress(value=0.0, bar_style='info', description='Progress:', layout=Layout(height='25px', width='50%'),…"
      ]
     },
     "metadata": {},
     "output_type": "display_data"
    },
    {
     "name": "stdout",
     "output_type": "stream",
     "text": [
      "root\n",
      " |-- path: string (nullable = true)\n",
      " |-- label: string (nullable = true)\n",
      " |-- features_vect: vector (nullable = true)"
     ]
    }
   ],
   "source": [
    "# On vérifie\n",
    "features_df.printSchema()"
   ]
  },
  {
   "cell_type": "code",
   "execution_count": 20,
   "id": "acb0db4d",
   "metadata": {},
   "outputs": [
    {
     "data": {
      "application/vnd.jupyter.widget-view+json": {
       "model_id": "977cad922726480f811544edc09b576f",
       "version_major": 2,
       "version_minor": 0
      },
      "text/plain": [
       "VBox()"
      ]
     },
     "metadata": {},
     "output_type": "display_data"
    },
    {
     "data": {
      "application/vnd.jupyter.widget-view+json": {
       "model_id": "",
       "version_major": 2,
       "version_minor": 0
      },
      "text/plain": [
       "FloatProgress(value=0.0, bar_style='info', description='Progress:', layout=Layout(height='25px', width='50%'),…"
      ]
     },
     "metadata": {},
     "output_type": "display_data"
    }
   ],
   "source": [
    "# On standardise nos données\n",
    "standardizer = StandardScaler(withMean=True, withStd=True,\n",
    "                              inputCol='features_vect',\n",
    "                              outputCol='feats_scaled')\n",
    "std = standardizer.fit(features_df)\n",
    "features_df_scaled = std.transform(features_df)"
   ]
  },
  {
   "cell_type": "code",
   "execution_count": 21,
   "id": "b08fdde0",
   "metadata": {},
   "outputs": [
    {
     "data": {
      "application/vnd.jupyter.widget-view+json": {
       "model_id": "5d498a9442d44e549d9b74ddab1ff893",
       "version_major": 2,
       "version_minor": 0
      },
      "text/plain": [
       "VBox()"
      ]
     },
     "metadata": {},
     "output_type": "display_data"
    },
    {
     "data": {
      "application/vnd.jupyter.widget-view+json": {
       "model_id": "",
       "version_major": 2,
       "version_minor": 0
      },
      "text/plain": [
       "FloatProgress(value=0.0, bar_style='info', description='Progress:', layout=Layout(height='25px', width='50%'),…"
      ]
     },
     "metadata": {},
     "output_type": "display_data"
    },
    {
     "name": "stdout",
     "output_type": "stream",
     "text": [
      "root\n",
      " |-- path: string (nullable = true)\n",
      " |-- label: string (nullable = true)\n",
      " |-- features_vect: vector (nullable = true)\n",
      " |-- feats_scaled: vector (nullable = true)\n",
      "\n",
      "+--------------------+------------------+--------------------+--------------------+\n",
      "|                path|             label|       features_vect|        feats_scaled|\n",
      "+--------------------+------------------+--------------------+--------------------+\n",
      "|s3://p8ocrvle/Dat...|           apple_6|[0.0,0.0,0.0,0.0,...|[-0.4063785368685...|\n",
      "|s3://p8ocrvle/Dat...|           apple_6|[0.0,0.0637124702...|[-0.4063785368685...|\n",
      "|s3://p8ocrvle/Dat...| apple_pink_lady_1|[0.0,0.0,0.0,0.0,...|[-0.4063785368685...|\n",
      "|s3://p8ocrvle/Dat...| apple_pink_lady_1|[0.0,0.0,0.0,0.0,...|[-0.4063785368685...|\n",
      "|s3://p8ocrvle/Dat...|apple_red_yellow_1|[0.05955623462796...|[-0.0431709601578...|\n",
      "+--------------------+------------------+--------------------+--------------------+\n",
      "only showing top 5 rows"
     ]
    }
   ],
   "source": [
    "# On vérifie\n",
    "features_df_scaled.printSchema()\n",
    "features_df_scaled.show(5) "
   ]
  },
  {
   "cell_type": "markdown",
   "id": "64d42662",
   "metadata": {},
   "source": [
    "Nous pouvons maintenant appliquer une PCA."
   ]
  },
  {
   "cell_type": "code",
   "execution_count": 22,
   "id": "72c38600",
   "metadata": {
    "scrolled": false
   },
   "outputs": [
    {
     "data": {
      "application/vnd.jupyter.widget-view+json": {
       "model_id": "99dc887349bc4c009cb594b723e77dea",
       "version_major": 2,
       "version_minor": 0
      },
      "text/plain": [
       "VBox()"
      ]
     },
     "metadata": {},
     "output_type": "display_data"
    },
    {
     "data": {
      "application/vnd.jupyter.widget-view+json": {
       "model_id": "",
       "version_major": 2,
       "version_minor": 0
      },
      "text/plain": [
       "FloatProgress(value=0.0, bar_style='info', description='Progress:', layout=Layout(height='25px', width='50%'),…"
      ]
     },
     "metadata": {},
     "output_type": "display_data"
    }
   ],
   "source": [
    "pca = PCA(k=8, inputCol='feats_scaled', outputCol='pca')\n",
    "modelpca = pca.fit(features_df_scaled)\n",
    "transformed = modelpca.transform(features_df_scaled)"
   ]
  },
  {
   "cell_type": "code",
   "execution_count": 23,
   "id": "86007fd3",
   "metadata": {},
   "outputs": [
    {
     "data": {
      "application/vnd.jupyter.widget-view+json": {
       "model_id": "e92aee9c6e6049be8ef0025e0e3caabc",
       "version_major": 2,
       "version_minor": 0
      },
      "text/plain": [
       "VBox()"
      ]
     },
     "metadata": {},
     "output_type": "display_data"
    },
    {
     "data": {
      "application/vnd.jupyter.widget-view+json": {
       "model_id": "",
       "version_major": 2,
       "version_minor": 0
      },
      "text/plain": [
       "FloatProgress(value=0.0, bar_style='info', description='Progress:', layout=Layout(height='25px', width='50%'),…"
      ]
     },
     "metadata": {},
     "output_type": "display_data"
    },
    {
     "name": "stdout",
     "output_type": "stream",
     "text": [
      "DenseVector([0.2144, 0.1765, 0.1511, 0.1084, 0.0975, 0.0899, 0.0842, 0.0781])"
     ]
    }
   ],
   "source": [
    "# On regarde la variance expliquée par nos nouvelles données\n",
    "variance_explained = modelpca.explainedVariance\n",
    "variance_explained"
   ]
  },
  {
   "cell_type": "markdown",
   "id": "69e3ccfd",
   "metadata": {},
   "source": [
    "## Enregistrement des résultats"
   ]
  },
  {
   "cell_type": "code",
   "execution_count": 24,
   "id": "c16edf29",
   "metadata": {},
   "outputs": [
    {
     "data": {
      "application/vnd.jupyter.widget-view+json": {
       "model_id": "557ac01d70e24eeebf70614ee921f6f6",
       "version_major": 2,
       "version_minor": 0
      },
      "text/plain": [
       "VBox()"
      ]
     },
     "metadata": {},
     "output_type": "display_data"
    },
    {
     "data": {
      "application/vnd.jupyter.widget-view+json": {
       "model_id": "",
       "version_major": 2,
       "version_minor": 0
      },
      "text/plain": [
       "FloatProgress(value=0.0, bar_style='info', description='Progress:', layout=Layout(height='25px', width='50%'),…"
      ]
     },
     "metadata": {},
     "output_type": "display_data"
    }
   ],
   "source": [
    "# On enregistre dans un nouveau dossier dans notre bucket S3\n",
    "features_df_scaled.write.parquet(path='s3://p8ocrvle/Features/', mode='overwrite')"
   ]
  },
  {
   "cell_type": "code",
   "execution_count": null,
   "id": "10b069e3",
   "metadata": {},
   "outputs": [],
   "source": []
  }
 ],
 "metadata": {
  "kernelspec": {
   "display_name": "PySpark",
   "language": "",
   "name": "pysparkkernel"
  },
  "language_info": {
   "codemirror_mode": {
    "name": "python",
    "version": 3
   },
   "mimetype": "text/x-python",
   "name": "pyspark",
   "pygments_lexer": "python3"
  }
 },
 "nbformat": 4,
 "nbformat_minor": 5
}
